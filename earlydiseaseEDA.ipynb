{
  "cells": [
    {
      "cell_type": "markdown",
      "metadata": {
        "id": "view-in-github",
        "colab_type": "text"
      },
      "source": [
        "<a href=\"https://colab.research.google.com/github/Mukthat-31/HeartShield/blob/main/earlydiseaseEDA.ipynb\" target=\"_parent\"><img src=\"https://colab.research.google.com/assets/colab-badge.svg\" alt=\"Open In Colab\"/></a>"
      ]
    },
    {
      "cell_type": "code",
      "execution_count": null,
      "metadata": {
        "id": "QXJ6brqU5NiA"
      },
      "outputs": [],
      "source": [
        "import pandas as pd\n",
        "import matplotlib.pyplot as plt\n",
        "import seaborn as sns\n",
        "from sklearn.impute import SimpleImputer\n"
      ]
    },
    {
      "cell_type": "code",
      "execution_count": null,
      "metadata": {
        "colab": {
          "base_uri": "https://localhost:8080/",
          "height": 73
        },
        "id": "54PKmdY78you",
        "outputId": "65f611f2-8f7a-411b-d10b-198bf9729d17"
      },
      "outputs": [
        {
          "output_type": "display_data",
          "data": {
            "text/plain": [
              "<IPython.core.display.HTML object>"
            ],
            "text/html": [
              "\n",
              "     <input type=\"file\" id=\"files-29f6ed59-ec71-4606-8aa5-573c9adc270c\" name=\"files[]\" multiple disabled\n",
              "        style=\"border:none\" />\n",
              "     <output id=\"result-29f6ed59-ec71-4606-8aa5-573c9adc270c\">\n",
              "      Upload widget is only available when the cell has been executed in the\n",
              "      current browser session. Please rerun this cell to enable.\n",
              "      </output>\n",
              "      <script>// Copyright 2017 Google LLC\n",
              "//\n",
              "// Licensed under the Apache License, Version 2.0 (the \"License\");\n",
              "// you may not use this file except in compliance with the License.\n",
              "// You may obtain a copy of the License at\n",
              "//\n",
              "//      http://www.apache.org/licenses/LICENSE-2.0\n",
              "//\n",
              "// Unless required by applicable law or agreed to in writing, software\n",
              "// distributed under the License is distributed on an \"AS IS\" BASIS,\n",
              "// WITHOUT WARRANTIES OR CONDITIONS OF ANY KIND, either express or implied.\n",
              "// See the License for the specific language governing permissions and\n",
              "// limitations under the License.\n",
              "\n",
              "/**\n",
              " * @fileoverview Helpers for google.colab Python module.\n",
              " */\n",
              "(function(scope) {\n",
              "function span(text, styleAttributes = {}) {\n",
              "  const element = document.createElement('span');\n",
              "  element.textContent = text;\n",
              "  for (const key of Object.keys(styleAttributes)) {\n",
              "    element.style[key] = styleAttributes[key];\n",
              "  }\n",
              "  return element;\n",
              "}\n",
              "\n",
              "// Max number of bytes which will be uploaded at a time.\n",
              "const MAX_PAYLOAD_SIZE = 100 * 1024;\n",
              "\n",
              "function _uploadFiles(inputId, outputId) {\n",
              "  const steps = uploadFilesStep(inputId, outputId);\n",
              "  const outputElement = document.getElementById(outputId);\n",
              "  // Cache steps on the outputElement to make it available for the next call\n",
              "  // to uploadFilesContinue from Python.\n",
              "  outputElement.steps = steps;\n",
              "\n",
              "  return _uploadFilesContinue(outputId);\n",
              "}\n",
              "\n",
              "// This is roughly an async generator (not supported in the browser yet),\n",
              "// where there are multiple asynchronous steps and the Python side is going\n",
              "// to poll for completion of each step.\n",
              "// This uses a Promise to block the python side on completion of each step,\n",
              "// then passes the result of the previous step as the input to the next step.\n",
              "function _uploadFilesContinue(outputId) {\n",
              "  const outputElement = document.getElementById(outputId);\n",
              "  const steps = outputElement.steps;\n",
              "\n",
              "  const next = steps.next(outputElement.lastPromiseValue);\n",
              "  return Promise.resolve(next.value.promise).then((value) => {\n",
              "    // Cache the last promise value to make it available to the next\n",
              "    // step of the generator.\n",
              "    outputElement.lastPromiseValue = value;\n",
              "    return next.value.response;\n",
              "  });\n",
              "}\n",
              "\n",
              "/**\n",
              " * Generator function which is called between each async step of the upload\n",
              " * process.\n",
              " * @param {string} inputId Element ID of the input file picker element.\n",
              " * @param {string} outputId Element ID of the output display.\n",
              " * @return {!Iterable<!Object>} Iterable of next steps.\n",
              " */\n",
              "function* uploadFilesStep(inputId, outputId) {\n",
              "  const inputElement = document.getElementById(inputId);\n",
              "  inputElement.disabled = false;\n",
              "\n",
              "  const outputElement = document.getElementById(outputId);\n",
              "  outputElement.innerHTML = '';\n",
              "\n",
              "  const pickedPromise = new Promise((resolve) => {\n",
              "    inputElement.addEventListener('change', (e) => {\n",
              "      resolve(e.target.files);\n",
              "    });\n",
              "  });\n",
              "\n",
              "  const cancel = document.createElement('button');\n",
              "  inputElement.parentElement.appendChild(cancel);\n",
              "  cancel.textContent = 'Cancel upload';\n",
              "  const cancelPromise = new Promise((resolve) => {\n",
              "    cancel.onclick = () => {\n",
              "      resolve(null);\n",
              "    };\n",
              "  });\n",
              "\n",
              "  // Wait for the user to pick the files.\n",
              "  const files = yield {\n",
              "    promise: Promise.race([pickedPromise, cancelPromise]),\n",
              "    response: {\n",
              "      action: 'starting',\n",
              "    }\n",
              "  };\n",
              "\n",
              "  cancel.remove();\n",
              "\n",
              "  // Disable the input element since further picks are not allowed.\n",
              "  inputElement.disabled = true;\n",
              "\n",
              "  if (!files) {\n",
              "    return {\n",
              "      response: {\n",
              "        action: 'complete',\n",
              "      }\n",
              "    };\n",
              "  }\n",
              "\n",
              "  for (const file of files) {\n",
              "    const li = document.createElement('li');\n",
              "    li.append(span(file.name, {fontWeight: 'bold'}));\n",
              "    li.append(span(\n",
              "        `(${file.type || 'n/a'}) - ${file.size} bytes, ` +\n",
              "        `last modified: ${\n",
              "            file.lastModifiedDate ? file.lastModifiedDate.toLocaleDateString() :\n",
              "                                    'n/a'} - `));\n",
              "    const percent = span('0% done');\n",
              "    li.appendChild(percent);\n",
              "\n",
              "    outputElement.appendChild(li);\n",
              "\n",
              "    const fileDataPromise = new Promise((resolve) => {\n",
              "      const reader = new FileReader();\n",
              "      reader.onload = (e) => {\n",
              "        resolve(e.target.result);\n",
              "      };\n",
              "      reader.readAsArrayBuffer(file);\n",
              "    });\n",
              "    // Wait for the data to be ready.\n",
              "    let fileData = yield {\n",
              "      promise: fileDataPromise,\n",
              "      response: {\n",
              "        action: 'continue',\n",
              "      }\n",
              "    };\n",
              "\n",
              "    // Use a chunked sending to avoid message size limits. See b/62115660.\n",
              "    let position = 0;\n",
              "    do {\n",
              "      const length = Math.min(fileData.byteLength - position, MAX_PAYLOAD_SIZE);\n",
              "      const chunk = new Uint8Array(fileData, position, length);\n",
              "      position += length;\n",
              "\n",
              "      const base64 = btoa(String.fromCharCode.apply(null, chunk));\n",
              "      yield {\n",
              "        response: {\n",
              "          action: 'append',\n",
              "          file: file.name,\n",
              "          data: base64,\n",
              "        },\n",
              "      };\n",
              "\n",
              "      let percentDone = fileData.byteLength === 0 ?\n",
              "          100 :\n",
              "          Math.round((position / fileData.byteLength) * 100);\n",
              "      percent.textContent = `${percentDone}% done`;\n",
              "\n",
              "    } while (position < fileData.byteLength);\n",
              "  }\n",
              "\n",
              "  // All done.\n",
              "  yield {\n",
              "    response: {\n",
              "      action: 'complete',\n",
              "    }\n",
              "  };\n",
              "}\n",
              "\n",
              "scope.google = scope.google || {};\n",
              "scope.google.colab = scope.google.colab || {};\n",
              "scope.google.colab._files = {\n",
              "  _uploadFiles,\n",
              "  _uploadFilesContinue,\n",
              "};\n",
              "})(self);\n",
              "</script> "
            ]
          },
          "metadata": {}
        },
        {
          "output_type": "stream",
          "name": "stdout",
          "text": [
            "Saving heart_disease_dataset.csv to heart_disease_dataset.csv\n"
          ]
        }
      ],
      "source": [
        "from google.colab import files\n",
        "uploaded = files.upload()\n",
        "\n"
      ]
    },
    {
      "cell_type": "code",
      "execution_count": null,
      "metadata": {
        "colab": {
          "base_uri": "https://localhost:8080/"
        },
        "id": "deWjai-V9Mze",
        "outputId": "a1112716-c290-4326-ea65-d70b4c16ac53"
      },
      "outputs": [
        {
          "output_type": "stream",
          "name": "stdout",
          "text": [
            "Dataset Shape: (500, 9)\n",
            "\n",
            "Columns: ['age', 'sex', 'bmi', 'chest_pain', 'smoking', 'alcohol_drinking', 'stroke', 'blood_pressure', 'target']\n",
            "\n",
            "Data Types:\n",
            " age                   int64\n",
            "sex                  object\n",
            "bmi                 float64\n",
            "chest_pain           object\n",
            "smoking               int64\n",
            "alcohol_drinking      int64\n",
            "stroke                int64\n",
            "blood_pressure        int64\n",
            "target                int64\n",
            "dtype: object\n"
          ]
        }
      ],
      "source": [
        "df = pd.read_csv(\"heart_disease_dataset.csv\")\n",
        "df\n",
        "print(\"Dataset Shape:\", df.shape)\n",
        "print(\"\\nColumns:\", df.columns.tolist())\n",
        "print(\"\\nData Types:\\n\", df.dtypes)\n"
      ]
    },
    {
      "cell_type": "code",
      "execution_count": null,
      "metadata": {
        "colab": {
          "base_uri": "https://localhost:8080/"
        },
        "id": "jVpelOBw-8N5",
        "outputId": "332b8210-194c-41d4-dd1b-16e085ddea63"
      },
      "outputs": [
        {
          "output_type": "stream",
          "name": "stdout",
          "text": [
            "Missing values:\n",
            " age                 0\n",
            "sex                 0\n",
            "bmi                 0\n",
            "chest_pain          0\n",
            "smoking             0\n",
            "alcohol_drinking    0\n",
            "stroke              0\n",
            "blood_pressure      0\n",
            "target              0\n",
            "dtype: int64\n"
          ]
        }
      ],
      "source": [
        "print(\"Missing values:\\n\", df.isnull().sum())"
      ]
    },
    {
      "cell_type": "code",
      "execution_count": 21,
      "metadata": {
        "colab": {
          "base_uri": "https://localhost:8080/"
        },
        "id": "-y3iIoFH_Rs4",
        "outputId": "52456dfd-2635-4eb9-8a1c-b4d85538122a"
      },
      "outputs": [
        {
          "output_type": "stream",
          "name": "stdout",
          "text": [
            "✅ Final dataset shape: (500, 9)\n"
          ]
        }
      ],
      "source": [
        "# num_cols = df.select_dtypes(include=['float64', 'int64']).columns\n",
        "# cat_cols = df.select_dtypes(include=['object']).columns\n",
        "\n",
        "# num_imputer = SimpleImputer(strategy=\"median\")\n",
        "# df[num_cols] = num_imputer.fit_transform(df[num_cols])\n",
        "\n",
        "\n",
        "# cat_imputer = SimpleImputer(strategy=\"most_frequent\")\n",
        "# df[cat_cols] = cat_imputer.fit_transform(df[cat_cols])\n",
        "\n",
        "# for col in ['Age','Blood Pressure','Cholesterol Level','BMI','Sleep Hours',\n",
        "#             'Triglyceride Level','Fasting Blood Sugar','CRP Level','Homocysteine Level']:\n",
        "#     Q1, Q3 = df[col].quantile([0.25, 0.75])\n",
        "#     IQR = Q3 - Q1\n",
        "#     df = df[(df[col] >= Q1 - 1.5*IQR) & (df[col] <= Q3 + 1.5*IQR)]\n",
        "\n",
        "\n",
        "# df.to_csv(\"heart_disease_clean.csv\", index=False)\n",
        "# print(\"Final dataset shape:\", df.shape)\n",
        "\n",
        "import pandas as pd\n",
        "from sklearn.impute import SimpleImputer\n",
        "\n",
        "# Identify numeric and categorical columns\n",
        "num_cols = df.select_dtypes(include=['float64', 'int64']).columns\n",
        "cat_cols = df.select_dtypes(include=['object']).columns\n",
        "\n",
        "# Impute numeric values with median\n",
        "num_imputer = SimpleImputer(strategy=\"median\")\n",
        "df[num_cols] = num_imputer.fit_transform(df[num_cols])\n",
        "\n",
        "# Impute categorical values with most frequent\n",
        "cat_imputer = SimpleImputer(strategy=\"most_frequent\")\n",
        "df[cat_cols] = cat_imputer.fit_transform(df[cat_cols])\n",
        "\n",
        "# Outlier removal (using IQR) only for selected numeric columns\n",
        "for col in ['age', 'bmi', 'blood_pressure']:\n",
        "    if col in df.columns:  # safeguard against missing cols\n",
        "        Q1, Q3 = df[col].quantile([0.25, 0.75])\n",
        "        IQR = Q3 - Q1\n",
        "        df = df[(df[col] >= Q1 - 1.5 * IQR) & (df[col] <= Q3 + 1.5 * IQR)]\n",
        "\n",
        "# Save cleaned dataset\n",
        "df.to_csv(\"heart_disease_clean.csv\", index=False)\n",
        "print(\"✅ Final dataset shape:\", df.shape)\n"
      ]
    },
    {
      "cell_type": "code",
      "execution_count": 22,
      "metadata": {
        "id": "veTPrmdCE2lq"
      },
      "outputs": [],
      "source": [
        "for col in df.columns:\n",
        "    if df[col].dtype in [\"int64\", \"float64\"]:\n",
        "        df[col] = df[col].fillna(df[col].median())\n",
        "    else:\n",
        "        df[col] = df[col].fillna(df[col].mode()[0])"
      ]
    },
    {
      "cell_type": "code",
      "execution_count": 23,
      "metadata": {
        "id": "Aip4ohWIE49S"
      },
      "outputs": [],
      "source": [
        "numeric_cols = df.select_dtypes(include=['int64','float64']).columns"
      ]
    },
    {
      "cell_type": "code",
      "execution_count": 24,
      "metadata": {
        "id": "sYbvxaOtFlkN",
        "colab": {
          "base_uri": "https://localhost:8080/"
        },
        "outputId": "1ba4b49e-0c68-488a-acca-9aacbb8e86cf"
      },
      "outputs": [
        {
          "output_type": "stream",
          "name": "stdout",
          "text": [
            "\n",
            "Shape after removing outliers: (447, 9)\n"
          ]
        }
      ],
      "source": [
        "for col in numeric_cols:\n",
        "    Q1 = df[col].quantile(0.25)\n",
        "    Q3 = df[col].quantile(0.75)\n",
        "    IQR = Q3 - Q1\n",
        "    lower = Q1 - 1.5*IQR\n",
        "    upper = Q3 + 1.5*IQR\n",
        "    df = df[(df[col] >= lower) & (df[col] <= upper)]\n",
        "\n",
        "print(\"\\nShape after removing outliers:\", df.shape)"
      ]
    },
    {
      "cell_type": "code",
      "execution_count": 25,
      "metadata": {
        "id": "0q1bDKyVGCDx",
        "colab": {
          "base_uri": "https://localhost:8080/"
        },
        "outputId": "2f5b885f-e5ae-4325-adf5-09b1e0dea866"
      },
      "outputs": [
        {
          "output_type": "stream",
          "name": "stdout",
          "text": [
            "\n",
            "Summary Statistics:\n",
            "               age         bmi     smoking  alcohol_drinking  stroke  \\\n",
            "count  447.000000  447.000000  447.000000        447.000000   447.0   \n",
            "mean    52.809843   28.950559    0.422819          0.315436     0.0   \n",
            "std     13.807358    6.244674    0.494561          0.465210     0.0   \n",
            "min     29.000000   18.700000    0.000000          0.000000     0.0   \n",
            "25%     42.000000   23.500000    0.000000          0.000000     0.0   \n",
            "50%     54.000000   28.700000    0.000000          0.000000     0.0   \n",
            "75%     64.000000   34.400000    1.000000          1.000000     0.0   \n",
            "max     76.000000   40.000000    1.000000          1.000000     0.0   \n",
            "\n",
            "       blood_pressure      target  \n",
            "count      447.000000  447.000000  \n",
            "mean       135.814318    0.489933  \n",
            "std         25.476076    0.500459  \n",
            "min         90.000000    0.000000  \n",
            "25%        114.000000    0.000000  \n",
            "50%        138.000000    0.000000  \n",
            "75%        157.000000    1.000000  \n",
            "max        179.000000    1.000000  \n"
          ]
        }
      ],
      "source": [
        "print(\"\\nSummary Statistics:\\n\", df.describe())"
      ]
    },
    {
      "cell_type": "code",
      "execution_count": 26,
      "metadata": {
        "id": "VR1X6uTpH6WZ",
        "colab": {
          "base_uri": "https://localhost:8080/",
          "height": 857
        },
        "outputId": "6820f59c-9e29-4400-cf21-4f1ddac3630c"
      },
      "outputs": [
        {
          "output_type": "display_data",
          "data": {
            "text/plain": [
              "<Figure size 1500x1000 with 9 Axes>"
            ],
            "image/png": "[encoded data removed]"
          },
          "metadata": {}
        }
      ],
      "source": [
        "# Histogram for numerical columns\n",
        "df.hist(bins=20, figsize=(15,10))\n",
        "plt.suptitle(\"Feature Distributions\", fontsize=16)\n",
        "plt.show()"
      ]
    },
    {
      "cell_type": "code",
      "execution_count": 27,
      "metadata": {
        "id": "B8gRgESBH96d",
        "colab": {
          "base_uri": "https://localhost:8080/",
          "height": 715
        },
        "outputId": "623dd17f-cf61-42e5-bfc1-690b0939208a"
      },
      "outputs": [
        {
          "output_type": "display_data",
          "data": {
            "text/plain": [
              "<Figure size 1500x800 with 1 Axes>"
            ],
            "image/png": "[encoded data removed]"
          },
          "metadata": {}
        }
      ],
      "source": [
        "# Boxplots for outlier visualization\n",
        "plt.figure(figsize=(15,8))\n",
        "df[numeric_cols].boxplot()\n",
        "plt.title(\"Boxplots for Numeric Features\")\n",
        "plt.xticks(rotation=45)\n",
        "plt.show()"
      ]
    },
    {
      "cell_type": "code",
      "execution_count": 28,
      "metadata": {
        "id": "NkYU28d-IBCY",
        "colab": {
          "base_uri": "https://localhost:8080/",
          "height": 699
        },
        "outputId": "7c5c99e2-a407-400c-a1ba-6daaa2806831"
      },
      "outputs": [
        {
          "output_type": "display_data",
          "data": {
            "text/plain": [
              "<Figure size 1200x800 with 2 Axes>"
            ],
            "image/png": "[encoded data removed]"
          },
          "metadata": {}
        }
      ],
      "source": [
        "\n",
        "# Correlation Heatmap (only numeric features)\n",
        "plt.figure(figsize=(12,8))\n",
        "sns.heatmap(df.select_dtypes(include=['int64','float64']).corr(), annot=False, cmap=\"coolwarm\")\n",
        "plt.title(\"Correlation Matrix (Numeric Features Only)\")\n",
        "plt.show()\n"
      ]
    },
    {
      "cell_type": "code",
      "execution_count": 29,
      "metadata": {
        "id": "yXddZyg7STou",
        "colab": {
          "base_uri": "https://localhost:8080/"
        },
        "outputId": "238ed60c-e549-4562-cc34-9183879c0c2b"
      },
      "outputs": [
        {
          "output_type": "stream",
          "name": "stdout",
          "text": [
            "Reading package lists... Done\n",
            "Building dependency tree... Done\n",
            "Reading state information... Done\n",
            "tesseract-ocr is already the newest version (4.1.1-2.1build1).\n",
            "0 upgraded, 0 newly installed, 0 to remove and 35 not upgraded.\n",
            "Collecting pytesseract\n",
            "  Downloading pytesseract-0.3.13-py3-none-any.whl.metadata (11 kB)\n",
            "Requirement already satisfied: opencv-python in /usr/local/lib/python3.12/dist-packages (4.12.0.88)\n",
            "Requirement already satisfied: pillow in /usr/local/lib/python3.12/dist-packages (11.3.0)\n",
            "Requirement already satisfied: pandas in /usr/local/lib/python3.12/dist-packages (2.2.2)\n",
            "Requirement already satisfied: packaging>=21.3 in /usr/local/lib/python3.12/dist-packages (from pytesseract) (25.0)\n",
            "Requirement already satisfied: numpy<2.3.0,>=2 in /usr/local/lib/python3.12/dist-packages (from opencv-python) (2.0.2)\n",
            "Requirement already satisfied: python-dateutil>=2.8.2 in /usr/local/lib/python3.12/dist-packages (from pandas) (2.9.0.post0)\n",
            "Requirement already satisfied: pytz>=2020.1 in /usr/local/lib/python3.12/dist-packages (from pandas) (2025.2)\n",
            "Requirement already satisfied: tzdata>=2022.7 in /usr/local/lib/python3.12/dist-packages (from pandas) (2025.2)\n",
            "Requirement already satisfied: six>=1.5 in /usr/local/lib/python3.12/dist-packages (from python-dateutil>=2.8.2->pandas) (1.17.0)\n",
            "Downloading pytesseract-0.3.13-py3-none-any.whl (14 kB)\n",
            "Installing collected packages: pytesseract\n",
            "Successfully installed pytesseract-0.3.13\n"
          ]
        }
      ],
      "source": [
        "!sudo apt-get install tesseract-ocr\n",
        "!pip install pytesseract opencv-python pillow pandas\n"
      ]
    },
    {
      "cell_type": "code",
      "execution_count": 30,
      "metadata": {
        "id": "Xxh-0dJAS-xx"
      },
      "outputs": [],
      "source": [
        "import cv2\n",
        "import pytesseract\n",
        "import pandas as pd\n",
        "from google.colab import files\n"
      ]
    },
    {
      "cell_type": "code",
      "execution_count": 31,
      "metadata": {
        "id": "1Jes2_I_TB27",
        "colab": {
          "base_uri": "https://localhost:8080/",
          "height": 73
        },
        "outputId": "94974621-5cc0-4c1a-d12b-ae8cb5ff7b39"
      },
      "outputs": [
        {
          "output_type": "display_data",
          "data": {
            "text/plain": [
              "<IPython.core.display.HTML object>"
            ],
            "text/html": [
              "\n",
              "     <input type=\"file\" id=\"files-b54404ad-7431-4e1c-982f-90695b8188ea\" name=\"files[]\" multiple disabled\n",
              "        style=\"border:none\" />\n",
              "     <output id=\"result-b54404ad-7431-4e1c-982f-90695b8188ea\">\n",
              "      Upload widget is only available when the cell has been executed in the\n",
              "      current browser session. Please rerun this cell to enable.\n",
              "      </output>\n",
              "      <script>// Copyright 2017 Google LLC\n",
              "//\n",
              "// Licensed under the Apache License, Version 2.0 (the \"License\");\n",
              "// you may not use this file except in compliance with the License.\n",
              "// You may obtain a copy of the License at\n",
              "//\n",
              "//      http://www.apache.org/licenses/LICENSE-2.0\n",
              "//\n",
              "// Unless required by applicable law or agreed to in writing, software\n",
              "// distributed under the License is distributed on an \"AS IS\" BASIS,\n",
              "// WITHOUT WARRANTIES OR CONDITIONS OF ANY KIND, either express or implied.\n",
              "// See the License for the specific language governing permissions and\n",
              "// limitations under the License.\n",
              "\n",
              "/**\n",
              " * @fileoverview Helpers for google.colab Python module.\n",
              " */\n",
              "(function(scope) {\n",
              "function span(text, styleAttributes = {}) {\n",
              "  const element = document.createElement('span');\n",
              "  element.textContent = text;\n",
              "  for (const key of Object.keys(styleAttributes)) {\n",
              "    element.style[key] = styleAttributes[key];\n",
              "  }\n",
              "  return element;\n",
              "}\n",
              "\n",
              "// Max number of bytes which will be uploaded at a time.\n",
              "const MAX_PAYLOAD_SIZE = 100 * 1024;\n",
              "\n",
              "function _uploadFiles(inputId, outputId) {\n",
              "  const steps = uploadFilesStep(inputId, outputId);\n",
              "  const outputElement = document.getElementById(outputId);\n",
              "  // Cache steps on the outputElement to make it available for the next call\n",
              "  // to uploadFilesContinue from Python.\n",
              "  outputElement.steps = steps;\n",
              "\n",
              "  return _uploadFilesContinue(outputId);\n",
              "}\n",
              "\n",
              "// This is roughly an async generator (not supported in the browser yet),\n",
              "// where there are multiple asynchronous steps and the Python side is going\n",
              "// to poll for completion of each step.\n",
              "// This uses a Promise to block the python side on completion of each step,\n",
              "// then passes the result of the previous step as the input to the next step.\n",
              "function _uploadFilesContinue(outputId) {\n",
              "  const outputElement = document.getElementById(outputId);\n",
              "  const steps = outputElement.steps;\n",
              "\n",
              "  const next = steps.next(outputElement.lastPromiseValue);\n",
              "  return Promise.resolve(next.value.promise).then((value) => {\n",
              "    // Cache the last promise value to make it available to the next\n",
              "    // step of the generator.\n",
              "    outputElement.lastPromiseValue = value;\n",
              "    return next.value.response;\n",
              "  });\n",
              "}\n",
              "\n",
              "/**\n",
              " * Generator function which is called between each async step of the upload\n",
              " * process.\n",
              " * @param {string} inputId Element ID of the input file picker element.\n",
              " * @param {string} outputId Element ID of the output display.\n",
              " * @return {!Iterable<!Object>} Iterable of next steps.\n",
              " */\n",
              "function* uploadFilesStep(inputId, outputId) {\n",
              "  const inputElement = document.getElementById(inputId);\n",
              "  inputElement.disabled = false;\n",
              "\n",
              "  const outputElement = document.getElementById(outputId);\n",
              "  outputElement.innerHTML = '';\n",
              "\n",
              "  const pickedPromise = new Promise((resolve) => {\n",
              "    inputElement.addEventListener('change', (e) => {\n",
              "      resolve(e.target.files);\n",
              "    });\n",
              "  });\n",
              "\n",
              "  const cancel = document.createElement('button');\n",
              "  inputElement.parentElement.appendChild(cancel);\n",
              "  cancel.textContent = 'Cancel upload';\n",
              "  const cancelPromise = new Promise((resolve) => {\n",
              "    cancel.onclick = () => {\n",
              "      resolve(null);\n",
              "    };\n",
              "  });\n",
              "\n",
              "  // Wait for the user to pick the files.\n",
              "  const files = yield {\n",
              "    promise: Promise.race([pickedPromise, cancelPromise]),\n",
              "    response: {\n",
              "      action: 'starting',\n",
              "    }\n",
              "  };\n",
              "\n",
              "  cancel.remove();\n",
              "\n",
              "  // Disable the input element since further picks are not allowed.\n",
              "  inputElement.disabled = true;\n",
              "\n",
              "  if (!files) {\n",
              "    return {\n",
              "      response: {\n",
              "        action: 'complete',\n",
              "      }\n",
              "    };\n",
              "  }\n",
              "\n",
              "  for (const file of files) {\n",
              "    const li = document.createElement('li');\n",
              "    li.append(span(file.name, {fontWeight: 'bold'}));\n",
              "    li.append(span(\n",
              "        `(${file.type || 'n/a'}) - ${file.size} bytes, ` +\n",
              "        `last modified: ${\n",
              "            file.lastModifiedDate ? file.lastModifiedDate.toLocaleDateString() :\n",
              "                                    'n/a'} - `));\n",
              "    const percent = span('0% done');\n",
              "    li.appendChild(percent);\n",
              "\n",
              "    outputElement.appendChild(li);\n",
              "\n",
              "    const fileDataPromise = new Promise((resolve) => {\n",
              "      const reader = new FileReader();\n",
              "      reader.onload = (e) => {\n",
              "        resolve(e.target.result);\n",
              "      };\n",
              "      reader.readAsArrayBuffer(file);\n",
              "    });\n",
              "    // Wait for the data to be ready.\n",
              "    let fileData = yield {\n",
              "      promise: fileDataPromise,\n",
              "      response: {\n",
              "        action: 'continue',\n",
              "      }\n",
              "    };\n",
              "\n",
              "    // Use a chunked sending to avoid message size limits. See b/62115660.\n",
              "    let position = 0;\n",
              "    do {\n",
              "      const length = Math.min(fileData.byteLength - position, MAX_PAYLOAD_SIZE);\n",
              "      const chunk = new Uint8Array(fileData, position, length);\n",
              "      position += length;\n",
              "\n",
              "      const base64 = btoa(String.fromCharCode.apply(null, chunk));\n",
              "      yield {\n",
              "        response: {\n",
              "          action: 'append',\n",
              "          file: file.name,\n",
              "          data: base64,\n",
              "        },\n",
              "      };\n",
              "\n",
              "      let percentDone = fileData.byteLength === 0 ?\n",
              "          100 :\n",
              "          Math.round((position / fileData.byteLength) * 100);\n",
              "      percent.textContent = `${percentDone}% done`;\n",
              "\n",
              "    } while (position < fileData.byteLength);\n",
              "  }\n",
              "\n",
              "  // All done.\n",
              "  yield {\n",
              "    response: {\n",
              "      action: 'complete',\n",
              "    }\n",
              "  };\n",
              "}\n",
              "\n",
              "scope.google = scope.google || {};\n",
              "scope.google.colab = scope.google.colab || {};\n",
              "scope.google.colab._files = {\n",
              "  _uploadFiles,\n",
              "  _uploadFilesContinue,\n",
              "};\n",
              "})(self);\n",
              "</script> "
            ]
          },
          "metadata": {}
        },
        {
          "output_type": "stream",
          "name": "stdout",
          "text": [
            "Saving report.jpg to report.jpg\n"
          ]
        }
      ],
      "source": [
        "uploaded = files.upload()   # Upload your table image\n",
        "img = cv2.imread(\"report.jpg\")\n"
      ]
    },
    {
      "cell_type": "code",
      "execution_count": 32,
      "metadata": {
        "id": "XNewhZnqTDWu",
        "colab": {
          "base_uri": "https://localhost:8080/"
        },
        "outputId": "8892c390-0ca0-4022-e134-da9295762991"
      },
      "outputs": [
        {
          "output_type": "stream",
          "name": "stdout",
          "text": [
            "RAW OCR TEXT:\n",
            " Medical Script for Heart Disease Prediction\n",
            "\n",
            " \n",
            "\n",
            " \n",
            "\n",
            " \n",
            "\n",
            " \n",
            "\n",
            " \n",
            "\n",
            " \n",
            "\n",
            " \n",
            "\n",
            " \n",
            "\n",
            " \n",
            "\n",
            " \n",
            "\n",
            " \n",
            "\n",
            " \n",
            "\n",
            "Age | BloodPressure | Cholesterol) Glucose | Hemoglobin | HeartDisease\n",
            "67 233 1 15.0 1\n",
            "41 Se 130 250 1 14.2 1\n",
            "56 | 160 223 2 13.3 0\n",
            "57 | 120 204 0 17.2 0\n",
            "55 =| 140 236 0 14.6 1\n",
            "53 | 125 354 1 13.5 0\n",
            "48 125 192 0 12.0 0\n",
            "64 | 150 212 0 13.8 1\n",
            "52 =| 130 250 2 16.4 0\n",
            "\n",
            " \n",
            "\n",
            " \n",
            "\n",
            " \n",
            "\n",
            " \n",
            "\n",
            " \n",
            "\f\n"
          ]
        }
      ],
      "source": [
        "text = pytesseract.image_to_string(img)\n",
        "print(\"RAW OCR TEXT:\\n\", text)\n"
      ]
    },
    {
      "cell_type": "code",
      "execution_count": 35,
      "metadata": {
        "id": "Z-ozJlTzTHb4",
        "colab": {
          "base_uri": "https://localhost:8080/"
        },
        "outputId": "2b76cf5b-73e5-49e8-ee75-b9eb7311fc86"
      },
      "outputs": [
        {
          "output_type": "stream",
          "name": "stdout",
          "text": [
            "CLEANED DATAFRAME:\n",
            "\n",
            "   Age  BloodPressure  Cholesterol  Glucose  Hemoglobin  HeartDisease\n",
            "0   67            233            1     15.0         1.0           NaN\n",
            "1   41            130          250      1.0        14.2           1.0\n",
            "2   56            160          223      2.0        13.3           0.0\n",
            "3   57            120          204      0.0        17.2           0.0\n",
            "4   55            140          236      0.0        14.6           1.0\n",
            "5   53            125          354      1.0        13.5           0.0\n",
            "6   48            125          192      0.0        12.0           0.0\n",
            "7   64            150          212      0.0        13.8           1.0\n",
            "8   52            130          250      2.0        16.4           0.0\n",
            "\n",
            "DATA TYPES:\n",
            " Age                int64\n",
            "BloodPressure      int64\n",
            "Cholesterol        int64\n",
            "Glucose          float64\n",
            "Hemoglobin       float64\n",
            "HeartDisease     float64\n",
            "dtype: object\n"
          ]
        }
      ],
      "source": [
        "# # lines = text.strip().split(\"\\n\")\n",
        "# # rows = [line.split() for line in lines if line.strip()]\n",
        "\n",
        "# # df = pd.DataFrame(rows)\n",
        "# # print(\"DATAFRAME:\\n\", df)\n",
        "\n",
        "# import pandas as pd\n",
        "\n",
        "# # Drop first 2 rows (junk + OCR headers)\n",
        "# df_clean = df.drop([0,1]).reset_index(drop=True)\n",
        "\n",
        "# # Drop columns with None / junk (only keep useful ones)\n",
        "# df_clean = df_clean[[0,2,3,4,5,6,8,9]]   # selecting only actual numeric columns\n",
        "\n",
        "# # Rename columns properly\n",
        "# df_clean.columns = [\"Age\", \"BloodPressure\", \"Cholesterol\", \"Glucose\", \"Hemoglobin\", \"Target1\", \"Target2\", \"HeartDisease\"]\n",
        "\n",
        "# print(\"CLEANED DATA:\\n\", df_clean.head())\n",
        "\n",
        "# # Convert numbers\n",
        "# for col in df_clean.columns:\n",
        "#     df_clean[col] = pd.to_numeric(df_clean[col], errors=\"coerce\")\n",
        "\n",
        "# print(df_clean.dtypes)\n",
        "\n",
        "import pandas as pd\n",
        "import re\n",
        "\n",
        "# 🔹 Assuming your OCR extracted text is stored in variable `text`\n",
        "# (don’t paste again, just keep it as is)\n",
        "\n",
        "# Step 1: Split into lines\n",
        "lines = text.strip().split(\"\\n\")\n",
        "\n",
        "# Step 2: Clean each line\n",
        "cleaned_lines = []\n",
        "for line in lines:\n",
        "    # Remove symbols like | and =\n",
        "    line = re.sub(r\"[|=]\", \" \", line)\n",
        "    # Remove stray non-numeric words (like 'Se') except first header row\n",
        "    if not line.lower().startswith(\"age\"):\n",
        "        line = re.sub(r\"[A-Za-z]+\", \"\", line)\n",
        "    # Normalize spaces\n",
        "    line = re.sub(r\"\\s+\", \" \", line).strip()\n",
        "    if line:\n",
        "        cleaned_lines.append(line)\n",
        "\n",
        "# Step 3: Split rows into lists\n",
        "rows = [row.split() for row in cleaned_lines]\n",
        "\n",
        "# Step 4: Create dataframe\n",
        "df = pd.DataFrame(rows)\n",
        "\n",
        "# Step 5: First row is header, others are data\n",
        "df.columns = [\"Age\", \"BloodPressure\", \"Cholesterol\", \"Glucose\", \"Hemoglobin\", \"HeartDisease\"]\n",
        "df = df.drop(0).reset_index(drop=True)\n",
        "\n",
        "# Step 6: Convert numeric columns\n",
        "for col in df.columns:\n",
        "    df[col] = pd.to_numeric(df[col], errors=\"coerce\")\n",
        "\n",
        "# ✅ Final cleaned table\n",
        "print(\"CLEANED DATAFRAME:\\n\")\n",
        "print(df)\n",
        "\n",
        "# Optional: show summary\n",
        "print(\"\\nDATA TYPES:\\n\", df.dtypes)\n",
        "\n",
        "\n"
      ]
    },
    {
      "cell_type": "code",
      "execution_count": 37,
      "metadata": {
        "id": "-qKbKAy0TKYS",
        "colab": {
          "base_uri": "https://localhost:8080/"
        },
        "outputId": "513eef30-8b32-4375-fade-4fab07c159e8"
      },
      "outputs": [
        {
          "output_type": "stream",
          "name": "stdout",
          "text": [
            "Number of columns in df: 6\n",
            "Columns are: ['Age', 'BloodPressure', 'Cholesterol', 'Glucose', 'Hemoglobin', 'HeartDisease']\n"
          ]
        }
      ],
      "source": [
        "print(\"Number of columns in df:\", len(df.columns))\n",
        "print(\"Columns are:\", df.columns.tolist())\n",
        "\n",
        "\n"
      ]
    },
    {
      "cell_type": "code",
      "execution_count": 39,
      "metadata": {
        "id": "MD-qFMsKTOzK"
      },
      "outputs": [],
      "source": [
        "# df_clean = df_clean.drop(columns=[\"Target1\", \"Target2\"])\n",
        "# print(df_clean.head())\n"
      ]
    },
    {
      "cell_type": "code",
      "execution_count": 40,
      "metadata": {
        "id": "7XTD3XPrWvfD"
      },
      "outputs": [],
      "source": [
        "import pandas as pd\n",
        "import numpy as np\n",
        "import matplotlib.pyplot as plt\n",
        "import seaborn as sns\n",
        "from sklearn.preprocessing import StandardScaler, MinMaxScaler, LabelEncoder\n",
        "from sklearn.feature_selection import SelectKBest, f_classif"
      ]
    },
    {
      "cell_type": "code",
      "execution_count": 41,
      "metadata": {
        "id": "V_Lr8JfyW75r",
        "colab": {
          "base_uri": "https://localhost:8080/",
          "height": 73
        },
        "outputId": "e92dc371-80e1-4b8e-d366-9ff94399c21a"
      },
      "outputs": [
        {
          "output_type": "display_data",
          "data": {
            "text/plain": [
              "<IPython.core.display.HTML object>"
            ],
            "text/html": [
              "\n",
              "     <input type=\"file\" id=\"files-aa17026b-63d6-4dad-8d53-d2b326f911a7\" name=\"files[]\" multiple disabled\n",
              "        style=\"border:none\" />\n",
              "     <output id=\"result-aa17026b-63d6-4dad-8d53-d2b326f911a7\">\n",
              "      Upload widget is only available when the cell has been executed in the\n",
              "      current browser session. Please rerun this cell to enable.\n",
              "      </output>\n",
              "      <script>// Copyright 2017 Google LLC\n",
              "//\n",
              "// Licensed under the Apache License, Version 2.0 (the \"License\");\n",
              "// you may not use this file except in compliance with the License.\n",
              "// You may obtain a copy of the License at\n",
              "//\n",
              "//      http://www.apache.org/licenses/LICENSE-2.0\n",
              "//\n",
              "// Unless required by applicable law or agreed to in writing, software\n",
              "// distributed under the License is distributed on an \"AS IS\" BASIS,\n",
              "// WITHOUT WARRANTIES OR CONDITIONS OF ANY KIND, either express or implied.\n",
              "// See the License for the specific language governing permissions and\n",
              "// limitations under the License.\n",
              "\n",
              "/**\n",
              " * @fileoverview Helpers for google.colab Python module.\n",
              " */\n",
              "(function(scope) {\n",
              "function span(text, styleAttributes = {}) {\n",
              "  const element = document.createElement('span');\n",
              "  element.textContent = text;\n",
              "  for (const key of Object.keys(styleAttributes)) {\n",
              "    element.style[key] = styleAttributes[key];\n",
              "  }\n",
              "  return element;\n",
              "}\n",
              "\n",
              "// Max number of bytes which will be uploaded at a time.\n",
              "const MAX_PAYLOAD_SIZE = 100 * 1024;\n",
              "\n",
              "function _uploadFiles(inputId, outputId) {\n",
              "  const steps = uploadFilesStep(inputId, outputId);\n",
              "  const outputElement = document.getElementById(outputId);\n",
              "  // Cache steps on the outputElement to make it available for the next call\n",
              "  // to uploadFilesContinue from Python.\n",
              "  outputElement.steps = steps;\n",
              "\n",
              "  return _uploadFilesContinue(outputId);\n",
              "}\n",
              "\n",
              "// This is roughly an async generator (not supported in the browser yet),\n",
              "// where there are multiple asynchronous steps and the Python side is going\n",
              "// to poll for completion of each step.\n",
              "// This uses a Promise to block the python side on completion of each step,\n",
              "// then passes the result of the previous step as the input to the next step.\n",
              "function _uploadFilesContinue(outputId) {\n",
              "  const outputElement = document.getElementById(outputId);\n",
              "  const steps = outputElement.steps;\n",
              "\n",
              "  const next = steps.next(outputElement.lastPromiseValue);\n",
              "  return Promise.resolve(next.value.promise).then((value) => {\n",
              "    // Cache the last promise value to make it available to the next\n",
              "    // step of the generator.\n",
              "    outputElement.lastPromiseValue = value;\n",
              "    return next.value.response;\n",
              "  });\n",
              "}\n",
              "\n",
              "/**\n",
              " * Generator function which is called between each async step of the upload\n",
              " * process.\n",
              " * @param {string} inputId Element ID of the input file picker element.\n",
              " * @param {string} outputId Element ID of the output display.\n",
              " * @return {!Iterable<!Object>} Iterable of next steps.\n",
              " */\n",
              "function* uploadFilesStep(inputId, outputId) {\n",
              "  const inputElement = document.getElementById(inputId);\n",
              "  inputElement.disabled = false;\n",
              "\n",
              "  const outputElement = document.getElementById(outputId);\n",
              "  outputElement.innerHTML = '';\n",
              "\n",
              "  const pickedPromise = new Promise((resolve) => {\n",
              "    inputElement.addEventListener('change', (e) => {\n",
              "      resolve(e.target.files);\n",
              "    });\n",
              "  });\n",
              "\n",
              "  const cancel = document.createElement('button');\n",
              "  inputElement.parentElement.appendChild(cancel);\n",
              "  cancel.textContent = 'Cancel upload';\n",
              "  const cancelPromise = new Promise((resolve) => {\n",
              "    cancel.onclick = () => {\n",
              "      resolve(null);\n",
              "    };\n",
              "  });\n",
              "\n",
              "  // Wait for the user to pick the files.\n",
              "  const files = yield {\n",
              "    promise: Promise.race([pickedPromise, cancelPromise]),\n",
              "    response: {\n",
              "      action: 'starting',\n",
              "    }\n",
              "  };\n",
              "\n",
              "  cancel.remove();\n",
              "\n",
              "  // Disable the input element since further picks are not allowed.\n",
              "  inputElement.disabled = true;\n",
              "\n",
              "  if (!files) {\n",
              "    return {\n",
              "      response: {\n",
              "        action: 'complete',\n",
              "      }\n",
              "    };\n",
              "  }\n",
              "\n",
              "  for (const file of files) {\n",
              "    const li = document.createElement('li');\n",
              "    li.append(span(file.name, {fontWeight: 'bold'}));\n",
              "    li.append(span(\n",
              "        `(${file.type || 'n/a'}) - ${file.size} bytes, ` +\n",
              "        `last modified: ${\n",
              "            file.lastModifiedDate ? file.lastModifiedDate.toLocaleDateString() :\n",
              "                                    'n/a'} - `));\n",
              "    const percent = span('0% done');\n",
              "    li.appendChild(percent);\n",
              "\n",
              "    outputElement.appendChild(li);\n",
              "\n",
              "    const fileDataPromise = new Promise((resolve) => {\n",
              "      const reader = new FileReader();\n",
              "      reader.onload = (e) => {\n",
              "        resolve(e.target.result);\n",
              "      };\n",
              "      reader.readAsArrayBuffer(file);\n",
              "    });\n",
              "    // Wait for the data to be ready.\n",
              "    let fileData = yield {\n",
              "      promise: fileDataPromise,\n",
              "      response: {\n",
              "        action: 'continue',\n",
              "      }\n",
              "    };\n",
              "\n",
              "    // Use a chunked sending to avoid message size limits. See b/62115660.\n",
              "    let position = 0;\n",
              "    do {\n",
              "      const length = Math.min(fileData.byteLength - position, MAX_PAYLOAD_SIZE);\n",
              "      const chunk = new Uint8Array(fileData, position, length);\n",
              "      position += length;\n",
              "\n",
              "      const base64 = btoa(String.fromCharCode.apply(null, chunk));\n",
              "      yield {\n",
              "        response: {\n",
              "          action: 'append',\n",
              "          file: file.name,\n",
              "          data: base64,\n",
              "        },\n",
              "      };\n",
              "\n",
              "      let percentDone = fileData.byteLength === 0 ?\n",
              "          100 :\n",
              "          Math.round((position / fileData.byteLength) * 100);\n",
              "      percent.textContent = `${percentDone}% done`;\n",
              "\n",
              "    } while (position < fileData.byteLength);\n",
              "  }\n",
              "\n",
              "  // All done.\n",
              "  yield {\n",
              "    response: {\n",
              "      action: 'complete',\n",
              "    }\n",
              "  };\n",
              "}\n",
              "\n",
              "scope.google = scope.google || {};\n",
              "scope.google.colab = scope.google.colab || {};\n",
              "scope.google.colab._files = {\n",
              "  _uploadFiles,\n",
              "  _uploadFilesContinue,\n",
              "};\n",
              "})(self);\n",
              "</script> "
            ]
          },
          "metadata": {}
        },
        {
          "output_type": "stream",
          "name": "stdout",
          "text": [
            "Saving heart_disease_dataset.csv to heart_disease_dataset (1).csv\n"
          ]
        }
      ],
      "source": [
        "from google.colab import files\n",
        "uploaded = files.upload()"
      ]
    },
    {
      "cell_type": "code",
      "execution_count": 42,
      "metadata": {
        "id": "jmTBL1uFXcP5",
        "colab": {
          "base_uri": "https://localhost:8080/"
        },
        "outputId": "cddac431-6ca7-47fd-f5df-402dbe8f2c1b"
      },
      "outputs": [
        {
          "output_type": "stream",
          "name": "stdout",
          "text": [
            "Shape: (500, 9)\n",
            "Columns: ['age', 'sex', 'bmi', 'chest_pain', 'smoking', 'alcohol_drinking', 'stroke', 'blood_pressure', 'target']\n"
          ]
        }
      ],
      "source": [
        "df = pd.read_csv(\"heart_disease_dataset.csv\")\n",
        "print(\"Shape:\", df.shape)\n",
        "print(\"Columns:\", df.columns.tolist())"
      ]
    },
    {
      "cell_type": "code",
      "execution_count": 43,
      "metadata": {
        "id": "g63ZhvklXiQN"
      },
      "outputs": [],
      "source": [
        "df = df.fillna(df.median(numeric_only=True))\n",
        "df = df.fillna(df.mode().iloc[0])"
      ]
    },
    {
      "cell_type": "code",
      "execution_count": 44,
      "metadata": {
        "id": "Qq6g8gE6Xlqs",
        "colab": {
          "base_uri": "https://localhost:8080/"
        },
        "outputId": "74b89b84-8e22-4157-ca6e-fe58c69d1853"
      },
      "outputs": [
        {
          "output_type": "stream",
          "name": "stdout",
          "text": [
            "\n",
            "Sample Normalized Data:\n",
            "         age     sex       bmi        chest_pain  smoking  alcohol_drinking  \\\n",
            "0  0.808511  Female  0.084112  non-anginal pain        1                 1   \n",
            "1  0.595745  Female  0.116822      asymptomatic        0                 1   \n",
            "2  0.297872  Female  0.457944   atypical angina        1                 0   \n",
            "3  0.893617  Female  0.200935    typical angina        1                 1   \n",
            "4  0.148936    Male  0.359813    typical angina        0                 0   \n",
            "\n",
            "   stroke  blood_pressure  target  \n",
            "0       0        0.213483       0  \n",
            "1       0        0.966292       0  \n",
            "2       0        0.101124       0  \n",
            "3       1        0.651685       0  \n",
            "4       0        0.831461       0  \n",
            "\n",
            "Sample Standardized Data:\n",
            "         age     sex       bmi        chest_pain  smoking  alcohol_drinking  \\\n",
            "0  1.016915  Female -1.376007  non-anginal pain        1                 1   \n",
            "1  0.291583  Female -1.263364      asymptomatic        0                 1   \n",
            "2 -0.723881  Female -0.088666   atypical angina        1                 0   \n",
            "3  1.307048  Female -0.973713    typical angina        1                 1   \n",
            "4 -1.231614    Male -0.426593    typical angina        0                 0   \n",
            "\n",
            "   stroke  blood_pressure  target  \n",
            "0       0       -1.038144       0  \n",
            "1       0        1.596141       0  \n",
            "2       0       -1.431321       0  \n",
            "3       1        0.495245       0  \n",
            "4       0        1.124328       0  \n"
          ]
        }
      ],
      "source": [
        "num_cols = [\"age\",\"bmi\",\"blood_pressure\"]\n",
        "\n",
        "scaler_minmax = MinMaxScaler()\n",
        "df_norm = df.copy()\n",
        "df_norm[num_cols] = scaler_minmax.fit_transform(df_norm[num_cols])\n",
        "\n",
        "scaler_standard = StandardScaler()\n",
        "df_std = df.copy()\n",
        "df_std[num_cols] = scaler_standard.fit_transform(df_std[num_cols])\n",
        "\n",
        "print(\"\\nSample Normalized Data:\\n\", df_norm.head())\n",
        "print(\"\\nSample Standardized Data:\\n\", df_std.head())\n"
      ]
    },
    {
      "cell_type": "code",
      "execution_count": 45,
      "metadata": {
        "id": "kopoOdDeXobg",
        "colab": {
          "base_uri": "https://localhost:8080/"
        },
        "outputId": "6b89bfe1-5a22-4cfe-ff9c-bac27a3da223"
      },
      "outputs": [
        {
          "output_type": "stream",
          "name": "stdout",
          "text": [
            "\n",
            "Label Encoded Sample:\n",
            "    age  sex   bmi  chest_pain  smoking  alcohol_drinking  stroke  \\\n",
            "0   67    0  20.4           2        1                 1       0   \n",
            "1   57    0  21.1           0        0                 1       0   \n",
            "2   43    0  28.4           1        1                 0       0   \n",
            "3   71    0  22.9           3        1                 1       1   \n",
            "4   36    1  26.3           3        0                 0       0   \n",
            "\n",
            "   blood_pressure  target  \n",
            "0             109       0  \n",
            "1             176       0  \n",
            "2              99       0  \n",
            "3             148       0  \n",
            "4             164       0  \n",
            "\n",
            "One-Hot Encoded Sample:\n",
            "    age   bmi  smoking  alcohol_drinking  stroke  blood_pressure  target  \\\n",
            "0   67  20.4        1                 1       0             109       0   \n",
            "1   57  21.1        0                 1       0             176       0   \n",
            "2   43  28.4        1                 0       0              99       0   \n",
            "3   71  22.9        1                 1       1             148       0   \n",
            "4   36  26.3        0                 0       0             164       0   \n",
            "\n",
            "   sex_Male  chest_pain_atypical angina  chest_pain_non-anginal pain  \\\n",
            "0     False                       False                         True   \n",
            "1     False                       False                        False   \n",
            "2     False                        True                        False   \n",
            "3     False                       False                        False   \n",
            "4      True                       False                        False   \n",
            "\n",
            "   chest_pain_typical angina  \n",
            "0                      False  \n",
            "1                      False  \n",
            "2                      False  \n",
            "3                       True  \n",
            "4                       True  \n"
          ]
        }
      ],
      "source": [
        "cat_cols = [\"sex\",\"chest_pain\"]\n",
        "\n",
        "df_label = df.copy()\n",
        "for col in cat_cols:\n",
        "    le = LabelEncoder()\n",
        "    df_label[col] = le.fit_transform(df_label[col])\n",
        "\n",
        "df_onehot = pd.get_dummies(df, columns=cat_cols, drop_first=True)\n",
        "\n",
        "print(\"\\nLabel Encoded Sample:\\n\", df_label.head())\n",
        "print(\"\\nOne-Hot Encoded Sample:\\n\", df_onehot.head())"
      ]
    },
    {
      "cell_type": "code",
      "execution_count": 46,
      "metadata": {
        "id": "HV3ipciIXrng",
        "colab": {
          "base_uri": "https://localhost:8080/"
        },
        "outputId": "4c114bf8-781a-4786-f072-28efdc6eab78"
      },
      "outputs": [
        {
          "output_type": "stream",
          "name": "stdout",
          "text": [
            "\n",
            "With Derived Features:\n",
            "    age   bmi  blood_pressure age_group  risk_score\n",
            "0   67  20.4             109    Senior       69.82\n",
            "1   57  21.1             176    Middle       93.83\n",
            "2   43  28.4              99     Adult       61.02\n",
            "3   71  22.9             148    Senior       87.37\n",
            "4   36  26.3             164     Adult       84.29\n"
          ]
        }
      ],
      "source": [
        "df[\"age_group\"] = pd.cut(df[\"age\"], bins=[0,30,45,60,100],\n",
        "                         labels=[\"Young\",\"Adult\",\"Middle\",\"Senior\"])\n",
        "\n",
        "# Risk score (just a simple formula)\n",
        "df[\"risk_score\"] = (0.4*df[\"blood_pressure\"] + 0.3*df[\"bmi\"] + 0.3*df[\"age\"])\n",
        "\n",
        "print(\"\\nWith Derived Features:\\n\", df[[\"age\",\"bmi\",\"blood_pressure\",\"age_group\",\"risk_score\"]].head())\n",
        "\n"
      ]
    },
    {
      "cell_type": "code",
      "execution_count": 47,
      "metadata": {
        "id": "Nc0sAY3_XwLV",
        "colab": {
          "base_uri": "https://localhost:8080/"
        },
        "outputId": "29169280-01dc-408c-e5b3-a516092da94f"
      },
      "outputs": [
        {
          "output_type": "stream",
          "name": "stdout",
          "text": [
            "\n",
            "Top 5 Selected Features: ['age', 'bmi', 'sex_Male', 'chest_pain_atypical angina', 'chest_pain_typical angina']\n"
          ]
        }
      ],
      "source": [
        "X = df_onehot.drop(columns=[\"target\"])\n",
        "y = df_onehot[\"target\"]\n",
        "\n",
        "selector = SelectKBest(score_func=f_classif, k=5)\n",
        "X_new = selector.fit_transform(X, y)\n",
        "selected_features = X.columns[selector.get_support()]\n",
        "\n",
        "print(\"\\nTop 5 Selected Features:\", selected_features.tolist())"
      ]
    },
    {
      "cell_type": "code",
      "execution_count": 48,
      "metadata": {
        "id": "lC9Yq54NXzXe",
        "colab": {
          "base_uri": "https://localhost:8080/",
          "height": 835
        },
        "outputId": "e0fc0954-7b06-4ca7-8f92-74ad272dfae8"
      },
      "outputs": [
        {
          "output_type": "display_data",
          "data": {
            "text/plain": [
              "<Figure size 1000x600 with 2 Axes>"
            ],
            "image/png": "[encoded data removed]"
          },
          "metadata": {}
        },
        {
          "output_type": "stream",
          "name": "stdout",
          "text": [
            "\n",
            "Correlation with target:\n",
            " target              1.000000\n",
            "bmi                 0.085371\n",
            "blood_pressure      0.021711\n",
            "alcohol_drinking    0.017515\n",
            "risk_score          0.007875\n",
            "stroke              0.000390\n",
            "smoking            -0.003326\n",
            "age                -0.070545\n",
            "Name: target, dtype: float64\n"
          ]
        }
      ],
      "source": [
        "plt.figure(figsize=(10,6))\n",
        "sns.heatmap(df.corr(numeric_only=True), annot=True, cmap=\"coolwarm\")\n",
        "plt.title(\"Correlation Heatmap\")\n",
        "plt.show()\n",
        "\n",
        "print(\"\\nCorrelation with target:\\n\", df.corr(numeric_only=True)[\"target\"].sort_values(ascending=False))"
      ]
    },
    {
      "cell_type": "code",
      "execution_count": 49,
      "metadata": {
        "id": "suyqYkPNX2go",
        "colab": {
          "base_uri": "https://localhost:8080/"
        },
        "outputId": "082f1282-4229-4e1a-9676-0f56aa066ba4"
      },
      "outputs": [
        {
          "output_type": "stream",
          "name": "stdout",
          "text": [
            "\n",
            "✅ Final transformed dataset saved as 'heart_disease_transformed.csv'\n"
          ]
        }
      ],
      "source": [
        "df.to_csv(\"heart_disease_transformed.csv\", index=False)\n",
        "print(\"\\n✅ Final transformed dataset saved as 'heart_disease_transformed.csv'\")"
      ]
    },
    {
      "cell_type": "code",
      "execution_count": 50,
      "metadata": {
        "id": "dR2juQOdX5Sq"
      },
      "outputs": [],
      "source": [
        "import pandas as pd\n",
        "import numpy as np\n",
        "from sklearn.model_selection import train_test_split\n",
        "import seaborn as sns\n",
        "import matplotlib.pyplot as plt\n"
      ]
    },
    {
      "cell_type": "code",
      "execution_count": 51,
      "metadata": {
        "id": "QDIaEf9Nk4Bk"
      },
      "outputs": [],
      "source": [
        "df.to_csv(\"heart_disease_transformed.csv\", index=False)\n",
        "\n",
        "\n"
      ]
    },
    {
      "cell_type": "code",
      "execution_count": 52,
      "metadata": {
        "id": "m0AsK9R8lTfx",
        "colab": {
          "base_uri": "https://localhost:8080/",
          "height": 17
        },
        "outputId": "fcb960a1-30e1-425c-8418-737dbd5f02f6"
      },
      "outputs": [
        {
          "output_type": "display_data",
          "data": {
            "text/plain": [
              "<IPython.core.display.Javascript object>"
            ],
            "application/javascript": [
              "\n",
              "    async function download(id, filename, size) {\n",
              "      if (!google.colab.kernel.accessAllowed) {\n",
              "        return;\n",
              "      }\n",
              "      const div = document.createElement('div');\n",
              "      const label = document.createElement('label');\n",
              "      label.textContent = `Downloading \"${filename}\": `;\n",
              "      div.appendChild(label);\n",
              "      const progress = document.createElement('progress');\n",
              "      progress.max = size;\n",
              "      div.appendChild(progress);\n",
              "      document.body.appendChild(div);\n",
              "\n",
              "      const buffers = [];\n",
              "      let downloaded = 0;\n",
              "\n",
              "      const channel = await google.colab.kernel.comms.open(id);\n",
              "      // Send a message to notify the kernel that we're ready.\n",
              "      channel.send({})\n",
              "\n",
              "      for await (const message of channel.messages) {\n",
              "        // Send a message to notify the kernel that we're ready.\n",
              "        channel.send({})\n",
              "        if (message.buffers) {\n",
              "          for (const buffer of message.buffers) {\n",
              "            buffers.push(buffer);\n",
              "            downloaded += buffer.byteLength;\n",
              "            progress.value = downloaded;\n",
              "          }\n",
              "        }\n",
              "      }\n",
              "      const blob = new Blob(buffers, {type: 'application/binary'});\n",
              "      const a = document.createElement('a');\n",
              "      a.href = window.URL.createObjectURL(blob);\n",
              "      a.download = filename;\n",
              "      div.appendChild(a);\n",
              "      a.click();\n",
              "      div.remove();\n",
              "    }\n",
              "  "
            ]
          },
          "metadata": {}
        },
        {
          "output_type": "display_data",
          "data": {
            "text/plain": [
              "<IPython.core.display.Javascript object>"
            ],
            "application/javascript": [
              "download(\"download_bff62dc9-94e6-4008-8ede-1d4a9fd6d847\", \"heart_disease_transformed.csv\", 28655)"
            ]
          },
          "metadata": {}
        }
      ],
      "source": [
        "files.download(\"heart_disease_transformed.csv\")"
      ]
    },
    {
      "cell_type": "code",
      "source": [
        "print(\"Full Dataset Shape:\", df.shape)\n",
        "print(\"Columns:\", df.columns.tolist())"
      ],
      "metadata": {
        "colab": {
          "base_uri": "https://localhost:8080/"
        },
        "id": "7EdZsvSWz181",
        "outputId": "b22e8f6c-525c-4c73-845e-6f952581dbd9"
      },
      "execution_count": 53,
      "outputs": [
        {
          "output_type": "stream",
          "name": "stdout",
          "text": [
            "Full Dataset Shape: (500, 11)\n",
            "Columns: ['age', 'sex', 'bmi', 'chest_pain', 'smoking', 'alcohol_drinking', 'stroke', 'blood_pressure', 'target', 'age_group', 'risk_score']\n"
          ]
        }
      ]
    },
    {
      "cell_type": "code",
      "source": [
        "X = df.drop(columns=[\"target\"])\n",
        "y = df[\"target\"]\n",
        "\n",
        "# First: Train (70%) + Temp (30%)\n",
        "X_train, X_temp, y_train, y_temp = train_test_split(\n",
        "    X, y, test_size=0.30, stratify=y, random_state=42\n",
        ")\n",
        "\n",
        "# Then: Validation (15%) + Test (15%)\n",
        "X_val, X_test, y_val, y_test = train_test_split(\n",
        "    X_temp, y_temp, test_size=0.50, stratify=y_temp, random_state=42\n",
        ")\n",
        "\n",
        "print(f\"Train Shape: {X_train.shape}, Validation Shape: {X_val.shape}, Test Shape: {X_test.shape}\")"
      ],
      "metadata": {
        "colab": {
          "base_uri": "https://localhost:8080/"
        },
        "id": "TzL3KOsJz-Hh",
        "outputId": "98ab5657-d26b-4861-f97e-ee932bcef3bf"
      },
      "execution_count": 54,
      "outputs": [
        {
          "output_type": "stream",
          "name": "stdout",
          "text": [
            "Train Shape: (350, 10), Validation Shape: (75, 10), Test Shape: (75, 10)\n"
          ]
        }
      ]
    },
    {
      "cell_type": "code",
      "source": [
        "def check_distribution(y, name):\n",
        "    print(f\"\\nClass distribution in {name}:\")\n",
        "    print(y.value_counts(normalize=True))\n",
        "\n",
        "check_distribution(y_train, \"Train\")\n",
        "check_distribution(y_val, \"Validation\")\n",
        "check_distribution(y_test, \"Test\")\n"
      ],
      "metadata": {
        "colab": {
          "base_uri": "https://localhost:8080/"
        },
        "id": "_XYIhRJp0CtQ",
        "outputId": "aa3ead26-ee31-4050-942e-8335853aa353"
      },
      "execution_count": 55,
      "outputs": [
        {
          "output_type": "stream",
          "name": "stdout",
          "text": [
            "\n",
            "Class distribution in Train:\n",
            "target\n",
            "0    0.508571\n",
            "1    0.491429\n",
            "Name: proportion, dtype: float64\n",
            "\n",
            "Class distribution in Validation:\n",
            "target\n",
            "0    0.506667\n",
            "1    0.493333\n",
            "Name: proportion, dtype: float64\n",
            "\n",
            "Class distribution in Test:\n",
            "target\n",
            "0    0.52\n",
            "1    0.48\n",
            "Name: proportion, dtype: float64\n"
          ]
        }
      ]
    },
    {
      "cell_type": "code",
      "source": [
        "print(\"\\nCheck for Missing Values:\")\n",
        "print(df.isnull().sum())\n",
        "\n",
        "print(\"\\nCheck for Duplicate Rows:\", df.duplicated().sum())\n",
        "\n",
        "# Ensure no data leakage\n",
        "train_ids = set(X_train.index)\n",
        "val_ids = set(X_val.index)\n",
        "test_ids = set(X_test.index)\n",
        "\n",
        "print(\"\\nOverlap between splits:\",\n",
        "      len(train_ids & val_ids),\n",
        "      len(train_ids & test_ids),\n",
        "      len(val_ids & test_ids))"
      ],
      "metadata": {
        "colab": {
          "base_uri": "https://localhost:8080/"
        },
        "id": "XSTZ4zLb0E6C",
        "outputId": "b521a373-e4fc-41b6-a076-e8ec705b8e18"
      },
      "execution_count": 56,
      "outputs": [
        {
          "output_type": "stream",
          "name": "stdout",
          "text": [
            "\n",
            "Check for Missing Values:\n",
            "age                 0\n",
            "sex                 0\n",
            "bmi                 0\n",
            "chest_pain          0\n",
            "smoking             0\n",
            "alcohol_drinking    0\n",
            "stroke              0\n",
            "blood_pressure      0\n",
            "target              0\n",
            "age_group           0\n",
            "risk_score          0\n",
            "dtype: int64\n",
            "\n",
            "Check for Duplicate Rows: 0\n",
            "\n",
            "Overlap between splits: 0 0 0\n"
          ]
        }
      ]
    },
    {
      "cell_type": "code",
      "source": [
        "print(\"\\n✅ Integrated Pipeline Flow:\")\n",
        "print(\"OCR ➝ Cleaning ➝ Outlier Removal ➝ Feature Engineering ➝ Data Splitting\")\n",
        "\n",
        "# -----------------------------\n",
        "# 6. Generate Final Dataset Summary\n",
        "# -----------------------------\n",
        "print(\"\\nDataset Summary (Numeric Features):\\n\", df.describe())\n",
        "\n",
        "# Distribution of target\n",
        "plt.figure(figsize=(5,4))\n",
        "sns.countplot(x=df[\"target\"])\n",
        "plt.title(\"Target Variable Distribution\")\n",
        "plt.show()"
      ],
      "metadata": {
        "colab": {
          "base_uri": "https://localhost:8080/",
          "height": 827
        },
        "id": "XJwk8oIB0IGx",
        "outputId": "61191e4e-12a2-40cf-afe7-a6ecfe21aa60"
      },
      "execution_count": 57,
      "outputs": [
        {
          "output_type": "stream",
          "name": "stdout",
          "text": [
            "\n",
            "✅ Integrated Pipeline Flow:\n",
            "OCR ➝ Cleaning ➝ Outlier Removal ➝ Feature Engineering ➝ Data Splitting\n",
            "\n",
            "Dataset Summary (Numeric Features):\n",
            "               age         bmi     smoking  alcohol_drinking      stroke  \\\n",
            "count  500.000000  500.000000  500.000000        500.000000  500.000000   \n",
            "mean    52.980000   28.951000    0.418000          0.302000    0.106000   \n",
            "std     13.800598    6.220583    0.493724          0.459585    0.308146   \n",
            "min     29.000000   18.600000    0.000000          0.000000    0.000000   \n",
            "25%     42.000000   23.500000    0.000000          0.000000    0.000000   \n",
            "50%     54.000000   28.700000    0.000000          0.000000    0.000000   \n",
            "75%     64.000000   34.400000    1.000000          1.000000    0.000000   \n",
            "max     76.000000   40.000000    1.000000          1.000000    1.000000   \n",
            "\n",
            "       blood_pressure      target  risk_score  \n",
            "count      500.000000  500.000000  500.000000  \n",
            "mean       135.404000    0.490000   78.740900  \n",
            "std         25.459323    0.500401   11.218551  \n",
            "min         90.000000    0.000000   53.600000  \n",
            "25%        113.750000    0.000000   69.562500  \n",
            "50%        137.000000    0.000000   79.545000  \n",
            "75%        157.000000    1.000000   87.390000  \n",
            "max        179.000000    1.000000  102.590000  \n"
          ]
        },
        {
          "output_type": "display_data",
          "data": {
            "text/plain": [
              "<Figure size 500x400 with 1 Axes>"
            ],
            "image/png": "[encoded data removed]"
          },
          "metadata": {}
        }
      ]
    },
    {
      "cell_type": "code",
      "source": [
        "train_set = pd.concat([X_train, y_train], axis=1)\n",
        "val_set = pd.concat([X_val, y_val], axis=1)\n",
        "test_set = pd.concat([X_test, y_test], axis=1)\n",
        "\n",
        "train_set.to_csv(\"heart_train.csv\", index=False)\n",
        "val_set.to_csv(\"heart_val.csv\", index=False)\n",
        "test_set.to_csv(\"heart_test.csv\", index=False)\n",
        "\n",
        "print(\"\\n✅ Saved: 'heart_train.csv', 'heart_val.csv', 'heart_test.csv'\")"
      ],
      "metadata": {
        "colab": {
          "base_uri": "https://localhost:8080/"
        },
        "id": "1XvV6vAC0Mr7",
        "outputId": "62345d3c-fc42-4b11-91ba-62e1f5e2e3e9"
      },
      "execution_count": 58,
      "outputs": [
        {
          "output_type": "stream",
          "name": "stdout",
          "text": [
            "\n",
            "✅ Saved: 'heart_train.csv', 'heart_val.csv', 'heart_test.csv'\n"
          ]
        }
      ]
    },
    {
      "cell_type": "code",
      "source": [],
      "metadata": {
        "id": "xyvUqMJK0PbW"
      },
      "execution_count": null,
      "outputs": []
    }
  ],
  "metadata": {
    "colab": {
      "provenance": [],
      "authorship_tag": "ABX9TyNuxQ5l8U8AO6SzbgNdTnnJ",
      "include_colab_link": true
    },
    "kernelspec": {
      "display_name": "Python 3",
      "name": "python3"
    },
    "language_info": {
      "name": "python"
    }
  },
  "nbformat": 4,
  "nbformat_minor": 0
}